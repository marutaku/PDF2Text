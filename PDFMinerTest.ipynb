{
 "cells": [
  {
   "cell_type": "code",
   "execution_count": 34,
   "metadata": {},
   "outputs": [],
   "source": [
    "from io import StringIO\n",
    "import re"
   ]
  },
  {
   "cell_type": "code",
   "execution_count": 35,
   "metadata": {},
   "outputs": [],
   "source": [
    "from pdfminer.pdfinterp import PDFResourceManager, PDFPageInterpreter\n",
    "from pdfminer.converter import TextConverter\n",
    "from pdfminer.layout import LAParams\n",
    "from pdfminer.pdfpage import PDFPage"
   ]
  },
  {
   "cell_type": "code",
   "execution_count": 36,
   "metadata": {},
   "outputs": [],
   "source": [
    "fp = open (\"Gatys_Image_Style_Transfer_CVPR_2016_paper.pdf\", \"rb\")\n",
    "fp.close()"
   ]
  },
  {
   "cell_type": "code",
   "execution_count": 38,
   "metadata": {},
   "outputs": [],
   "source": [
    "def convert_pdf_to_txt(path, txtname, buf=True):\n",
    "    rsrcmgr = PDFResourceManager()\n",
    "    if buf:\n",
    "        outfp = StringIO()\n",
    "    else:\n",
    "        outfp = file(txtname, 'w')\n",
    "    codec = 'utf-8'\n",
    "    laparams = LAParams()\n",
    "    laparams.detect_vertical = True\n",
    "    device = TextConverter(rsrcmgr, outfp, codec=codec, laparams=laparams)\n",
    "\n",
    "    fp = open(path, 'rb')\n",
    "    interpreter = PDFPageInterpreter(rsrcmgr, device)\n",
    "    for page in PDFPage.get_pages(fp):\n",
    "        interpreter.process_page(page)\n",
    "    fp.close()\n",
    "    device.close()\n",
    "    if buf:\n",
    "        text = outfp.getvalue()\n",
    "        text = text.replace('\\n', \" \").replace('  ', '\\n')\n",
    "        make_new_text_file = open(txtname, 'w')\n",
    "        make_new_text_file.write(text)\n",
    "        make_new_text_file.close()\n",
    "    outfp.close()"
   ]
  },
  {
   "cell_type": "code",
   "execution_count": 39,
   "metadata": {},
   "outputs": [],
   "source": [
    "def pdf_checker(name):\n",
    "    pdf_regex = re.compile(r'.+\\.pdf')\n",
    "    if pdf_regex.search(str(name)):\n",
    "        return True\n",
    "    else:\n",
    "        return False"
   ]
  },
  {
   "cell_type": "code",
   "execution_count": 40,
   "metadata": {},
   "outputs": [],
   "source": [
    "pdf_path = \"Gatys_Image_Style_Transfer_CVPR_2016_paper.pdf\"\n",
    "txtname = pdf_path + \".txt\"\n",
    "convert_pdf_to_txt(pdf_path, pdf_path + \".txt\")"
   ]
  },
  {
   "cell_type": "code",
   "execution_count": 25,
   "metadata": {},
   "outputs": [],
   "source": [
    "buf = True\n",
    "rsrcmgr = PDFResourceManager()"
   ]
  },
  {
   "cell_type": "code",
   "execution_count": null,
   "metadata": {},
   "outputs": [],
   "source": []
  },
  {
   "cell_type": "code",
   "execution_count": 26,
   "metadata": {},
   "outputs": [
    {
     "ename": "SyntaxError",
     "evalue": "invalid syntax (<ipython-input-26-41eee2c1c83f>, line 8)",
     "output_type": "error",
     "traceback": [
      "\u001b[0;36m  File \u001b[0;32m\"<ipython-input-26-41eee2c1c83f>\"\u001b[0;36m, line \u001b[0;32m8\u001b[0m\n\u001b[0;31m    device = TextConverter(rsrcmgr, outfp, codec=codec, laparams=laparams)1\u001b[0m\n\u001b[0m                                                                          ^\u001b[0m\n\u001b[0;31mSyntaxError\u001b[0m\u001b[0;31m:\u001b[0m invalid syntax\n"
     ]
    }
   ],
   "source": [
    "if buf:\n",
    "    outfp = StringIO()\n",
    "else:\n",
    "    outfp = file(txtname, 'w')\n",
    "codec = 'utf-8'\n",
    "laparams = LAPa1rams()\n",
    "laparams.detect_vertical = True\n",
    "device = TextConverter(rsrcmgr, outfp, codec=codec, laparams=laparams)1"
   ]
  },
  {
   "cell_type": "code",
   "execution_count": 27,
   "metadata": {},
   "outputs": [
    {
     "data": {
      "text/plain": [
       "['__class__',\n",
       " '__delattr__',\n",
       " '__dict__',\n",
       " '__dir__',\n",
       " '__doc__',\n",
       " '__eq__',\n",
       " '__format__',\n",
       " '__ge__',\n",
       " '__getattribute__',\n",
       " '__gt__',\n",
       " '__hash__',\n",
       " '__init__',\n",
       " '__le__',\n",
       " '__lt__',\n",
       " '__module__',\n",
       " '__ne__',\n",
       " '__new__',\n",
       " '__reduce__',\n",
       " '__reduce_ex__',\n",
       " '__repr__',\n",
       " '__setattr__',\n",
       " '__sizeof__',\n",
       " '__str__',\n",
       " '__subclasshook__',\n",
       " '__weakref__',\n",
       " '_stack',\n",
       " 'begin_figure',\n",
       " 'begin_page',\n",
       " 'begin_tag',\n",
       " 'close',\n",
       " 'codec',\n",
       " 'ctm',\n",
       " 'cur_item',\n",
       " 'do_tag',\n",
       " 'end_figure',\n",
       " 'end_page',\n",
       " 'end_tag',\n",
       " 'handle_undefined_char',\n",
       " 'imagewriter',\n",
       " 'laparams',\n",
       " 'outfp',\n",
       " 'outfp_binary',\n",
       " 'pageno',\n",
       " 'paint_path',\n",
       " 'receive_layout',\n",
       " 'render_char',\n",
       " 'render_image',\n",
       " 'render_string',\n",
       " 'render_string_horizontal',\n",
       " 'render_string_vertical',\n",
       " 'rsrcmgr',\n",
       " 'set_ctm',\n",
       " 'showpageno',\n",
       " 'write_text']"
      ]
     },
     "execution_count": 27,
     "metadata": {},
     "output_type": "execute_result"
    }
   ],
   "source": [
    "dir(device)"
   ]
  },
  {
   "cell_type": "code",
   "execution_count": 28,
   "metadata": {},
   "outputs": [],
   "source": [
    "fp = open(pdf_path, 'rb')\n",
    "interpreter = PDFPageInterpreter(rsrcmgr, device)\n",
    "for page in PDFPage.get_pages(fp):\n",
    "    interpreter.process_page(page)\n",
    "    \n"
   ]
  },
  {
   "cell_type": "code",
   "execution_count": null,
   "metadata": {},
   "outputs": [],
   "source": []
  },
  {
   "cell_type": "code",
   "execution_count": 31,
   "metadata": {},
   "outputs": [
    {
     "ename": "ValueError",
     "evalue": "I/O operation on closed file",
     "output_type": "error",
     "traceback": [
      "\u001b[0;31m---------------------------------------------------------------------------\u001b[0m",
      "\u001b[0;31mValueError\u001b[0m                                Traceback (most recent call last)",
      "\u001b[0;32m<ipython-input-31-b0f0e583fa03>\u001b[0m in \u001b[0;36m<module>\u001b[0;34m()\u001b[0m\n\u001b[1;32m      1\u001b[0m \u001b[0;32mif\u001b[0m \u001b[0mbuf\u001b[0m\u001b[0;34m:\u001b[0m\u001b[0;34m\u001b[0m\u001b[0m\n\u001b[0;32m----> 2\u001b[0;31m     \u001b[0mtext\u001b[0m \u001b[0;34m=\u001b[0m \u001b[0moutfp\u001b[0m\u001b[0;34m.\u001b[0m\u001b[0mgetvalue\u001b[0m\u001b[0;34m(\u001b[0m\u001b[0;34m)\u001b[0m\u001b[0;34m\u001b[0m\u001b[0m\n\u001b[0m\u001b[1;32m      3\u001b[0m     \u001b[0mtext\u001b[0m \u001b[0;34m=\u001b[0m \u001b[0mtext\u001b[0m\u001b[0;34m.\u001b[0m\u001b[0mreplace\u001b[0m\u001b[0;34m(\u001b[0m\u001b[0;34m'\\n'\u001b[0m\u001b[0;34m,\u001b[0m \u001b[0;34m\" \"\u001b[0m\u001b[0;34m)\u001b[0m\u001b[0;34m.\u001b[0m\u001b[0mreplace\u001b[0m\u001b[0;34m(\u001b[0m\u001b[0;34m'  '\u001b[0m\u001b[0;34m,\u001b[0m \u001b[0;34m'\\n'\u001b[0m\u001b[0;34m)\u001b[0m\u001b[0;34m\u001b[0m\u001b[0m\n\u001b[1;32m      4\u001b[0m     \u001b[0mmake_new_text_file\u001b[0m \u001b[0;34m=\u001b[0m \u001b[0mopen\u001b[0m\u001b[0;34m(\u001b[0m\u001b[0mtxtname\u001b[0m\u001b[0;34m,\u001b[0m \u001b[0;34m'w'\u001b[0m\u001b[0;34m)\u001b[0m\u001b[0;34m\u001b[0m\u001b[0m\n\u001b[1;32m      5\u001b[0m     \u001b[0mmake_new_text_file\u001b[0m\u001b[0;34m.\u001b[0m\u001b[0mwrite\u001b[0m\u001b[0;34m(\u001b[0m\u001b[0mtext\u001b[0m\u001b[0;34m)\u001b[0m\u001b[0;34m\u001b[0m\u001b[0m\n",
      "\u001b[0;31mValueError\u001b[0m: I/O operation on closed file"
     ]
    }
   ],
   "source": [
    "if buf:\n",
    "    text = outfp.getvalue()\n",
    "    \n",
    "    make_new_text_file = open(txtname, 'w')\n",
    "    make_new_text_file.write(text)\n",
    "    make_new_text_file.close()\n"
   ]
  },
  {
   "cell_type": "code",
   "execution_count": 30,
   "metadata": {},
   "outputs": [],
   "source": [
    "fp.close()\n",
    "device.close()\n",
    "outfp.close()"
   ]
  },
  {
   "cell_type": "code",
   "execution_count": null,
   "metadata": {},
   "outputs": [],
   "source": []
  }
 ],
 "metadata": {
  "kernelspec": {
   "display_name": "Python 3",
   "language": "python",
   "name": "python3"
  },
  "language_info": {
   "codemirror_mode": {
    "name": "ipython",
    "version": 3
   },
   "file_extension": ".py",
   "mimetype": "text/x-python",
   "name": "python",
   "nbconvert_exporter": "python",
   "pygments_lexer": "ipython3",
   "version": "3.5.0"
  }
 },
 "nbformat": 4,
 "nbformat_minor": 2
}
